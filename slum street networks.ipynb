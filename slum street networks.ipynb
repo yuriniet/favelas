{
 "cells": [
  {
   "cell_type": "code",
   "execution_count": 1,
   "id": "b230ed77",
   "metadata": {},
   "outputs": [],
   "source": [
    "import geopandas as gpd\n",
    "import pandas as pd"
   ]
  },
  {
   "cell_type": "code",
   "execution_count": 2,
   "id": "092287dc",
   "metadata": {},
   "outputs": [],
   "source": [
    "import re\n",
    "import folium"
   ]
  },
  {
   "cell_type": "code",
   "execution_count": 3,
   "id": "555e85e1",
   "metadata": {},
   "outputs": [],
   "source": [
    "import networkx as nx\n",
    "import osmnx as ox"
   ]
  },
  {
   "cell_type": "code",
   "execution_count": 4,
   "id": "e78ca276-57b5-42fd-9852-dedbf27a430e",
   "metadata": {},
   "outputs": [],
   "source": [
    "from networkx.algorithms.community import greedy_modularity_communities"
   ]
  },
  {
   "cell_type": "code",
   "execution_count": 5,
   "id": "6d69afba",
   "metadata": {},
   "outputs": [],
   "source": [
    "import scipy\n",
    "import numpy as np"
   ]
  },
  {
   "cell_type": "code",
   "execution_count": 6,
   "id": "491c3771",
   "metadata": {},
   "outputs": [],
   "source": [
    "import libpysal as lp\n",
    "import seaborn as sns\n",
    "import matplotlib.pyplot as plt"
   ]
  },
  {
   "cell_type": "code",
   "execution_count": 7,
   "id": "3fcffb66",
   "metadata": {},
   "outputs": [],
   "source": [
    "import itertools"
   ]
  },
  {
   "cell_type": "code",
   "execution_count": 8,
   "id": "58145455-2382-4bde-a859-a7deba4c35f2",
   "metadata": {},
   "outputs": [],
   "source": [
    "def knn(adj,k=1):\n",
    "    g = nx.from_pandas_adjacency(adj)\n",
    "    knn = nx.DiGraph()\n",
    "    for node in g.nodes():\n",
    "        neighbors = g.neighbors(node)\n",
    "        edges = sorted([(node,neighbor,g.edges[node,neighbor]['weight']) for neighbor in neighbors],key=lambda x:x[2])\n",
    "        for edge in edges[0:k]:\n",
    "            u,v,w = edge\n",
    "            knn.add_edge(u,v,weight=w)\n",
    "    return knn"
   ]
  },
  {
   "cell_type": "code",
   "execution_count": 9,
   "id": "67744c77-b49b-4a21-b9c4-8fa02c72b4db",
   "metadata": {},
   "outputs": [],
   "source": [
    "def distance_matrix(df,index_vals,p):\n",
    "    adj = pd.DataFrame(scipy.spatial.distance_matrix(x=df,y=df,p=p),index=index_vals,columns=index_vals)\n",
    "    return adj"
   ]
  },
  {
   "cell_type": "code",
   "execution_count": 10,
   "id": "7fd815dd-a5d1-43d5-944b-73f4ce54007d",
   "metadata": {},
   "outputs": [],
   "source": [
    "def network_area(nodelist,nodes):\n",
    "    ch_nodes = nodes[nodes.index.isin(nodelist)]\n",
    "    un = ch_nodes.unary_union\n",
    "    ch = un.convex_hull\n",
    "    return ch.area"
   ]
  },
  {
   "cell_type": "code",
   "execution_count": 11,
   "id": "93c9ff54",
   "metadata": {},
   "outputs": [],
   "source": [
    "def entropy(g):\n",
    "    x, y = dict(), dict()\n",
    "    for node in g.nodes():\n",
    "        x[node] = node[0]\n",
    "        y[node] = node[1]\n",
    "\n",
    "    nx.set_node_attributes(g,x,'x')\n",
    "    nx.set_node_attributes(g,y,'y')\n",
    "    \n",
    "    g = nx.convert_node_labels_to_integers(g)\n",
    "    osmids = {node:node for node in g.nodes()}\n",
    "    nx.set_node_attributes(g,osmids,'osmid') \n",
    "    \n",
    "    g = ox.project_graph(g,to_crs='EPSG:4326')\n",
    "    g = g.to_undirected()    \n",
    "    ox.add_edge_bearings(g) \n",
    "    \n",
    "    entr = ox.bearing.orientation_entropy(g)\n",
    "    return entr"
   ]
  },
  {
   "cell_type": "code",
   "execution_count": 12,
   "id": "38d4bf4f",
   "metadata": {},
   "outputs": [
    {
     "name": "stdout",
     "output_type": "stream",
     "text": [
      "293399 720864\n"
     ]
    }
   ],
   "source": [
    "g = ox.load_graphml('redes/rede de ruas osmnx.graphml')\n",
    "ox.add_edge_bearings(g)\n",
    "print(g.order(),g.size())"
   ]
  },
  {
   "cell_type": "code",
   "execution_count": 13,
   "id": "0e26e458",
   "metadata": {},
   "outputs": [],
   "source": [
    "base = gpd.read_parquet('arquivos de base/arquivos geoespaciais/geosampa/limites administrativos/distritos/distritos.parquet')\n",
    "base = base.set_crs('EPSG:31983')"
   ]
  },
  {
   "cell_type": "code",
   "execution_count": 14,
   "id": "0a1e79d7-31c6-4b54-aabc-74caa690e367",
   "metadata": {},
   "outputs": [],
   "source": [
    "pts_onibus = gpd.read_parquet('arquivos de base/arquivos geoespaciais/geosampa/rede de ônibus/ponto de ônibus/ponto de ônibus.parquet')\n",
    "pts_onibus = pts_onibus.set_crs('EPSG:31983')\n",
    "\n",
    "pts_ilum = gpd.read_parquet('arquivos de base/arquivos geoespaciais/geosampa/iluminação/iluminação.parquet')\n",
    "pts_ilum = pts_ilum.set_crs('EPSG:31983')\n",
    "\n",
    "declividade = gpd.read_parquet('arquivos de base/arquivos geoespaciais/geosampa/declividade/declividade.parquet')\n",
    "declividade = declividade.set_crs('EPSG:31983')\n",
    "\n",
    "inundaveis = gpd.read_parquet('arquivos de base/arquivos geoespaciais/geosampa/área inundável/área inundável.parquet')\n",
    "inundaveis = inundaveis.set_crs('EPSG:31983')"
   ]
  },
  {
   "cell_type": "code",
   "execution_count": 15,
   "id": "dbc9a025",
   "metadata": {},
   "outputs": [],
   "source": [
    "nodes,edges = ox.graph_to_gdfs(g)\n",
    "nodes = nodes.to_crs(base.crs)\n",
    "edges = edges.to_crs(base.crs)"
   ]
  },
  {
   "cell_type": "code",
   "execution_count": 129,
   "id": "3dc9bafb",
   "metadata": {},
   "outputs": [
    {
     "data": {
      "text/plain": [
       "(1974, 23)"
      ]
     },
     "execution_count": 129,
     "metadata": {},
     "output_type": "execute_result"
    }
   ],
   "source": [
    "fav = gpd.read_parquet('arquivos de base/arquivos geoespaciais/geosampa/favelas/favelas - preprocessado.parquet')\n",
    "#fav = fav[(fav['anoocupacao']>0)]\n",
    "#fav = fav[(fav['totdomicilio']>0)]\n",
    "fav['scale'] = pd.qcut(fav['totdomicilio'],5,range(5))\n",
    "fav = fav.to_crs(base.crs)\n",
    "fav.shape"
   ]
  },
  {
   "cell_type": "code",
   "execution_count": 130,
   "id": "1e65334e-78a7-4bb0-9364-90606eb890eb",
   "metadata": {},
   "outputs": [
    {
     "data": {
      "text/plain": [
       "count    1974.000000\n",
       "mean        0.013031\n",
       "std         0.032951\n",
       "min         0.000022\n",
       "25%         0.001371\n",
       "50%         0.004405\n",
       "75%         0.012691\n",
       "max         0.788094\n",
       "Name: areageo_km2, dtype: float64"
      ]
     },
     "execution_count": 130,
     "metadata": {},
     "output_type": "execute_result"
    }
   ],
   "source": [
    "fav['areageo_km2'] = fav['areageo_m2']/10**6\n",
    "fav['areageo_km2'].describe()"
   ]
  },
  {
   "cell_type": "code",
   "execution_count": 88,
   "id": "33e02523-0758-43a1-8967-6216a38ad217",
   "metadata": {},
   "outputs": [
    {
     "data": {
      "text/plain": [
       "[0, 50, 100, 200, 400]"
      ]
     },
     "execution_count": 88,
     "metadata": {},
     "output_type": "execute_result"
    }
   ],
   "source": [
    "buffers = [0,50,100,200,400]\n",
    "buffers"
   ]
  },
  {
   "cell_type": "code",
   "execution_count": 89,
   "id": "97e75e31",
   "metadata": {},
   "outputs": [],
   "source": [
    "fav_circle = fav.copy()\n",
    "fav_circle['geometry'] = fav_circle.geometry.minimum_bounding_circle()\n",
    "fav_circle['geometry'] = fav_circle.buffer(0)\n",
    "fav_circle['area'] = fav_circle.area\n",
    "s0 = edges.sjoin(fav_circle)"
   ]
  },
  {
   "cell_type": "code",
   "execution_count": 90,
   "id": "923bd80a",
   "metadata": {},
   "outputs": [],
   "source": [
    "redes = {}\n",
    "for nome in sorted(fav.nome):\n",
    "    gdf = s0[s0['nome']==nome].index.values.tolist()\n",
    "    j = nx.edge_subgraph(g,gdf)\n",
    "    try:\n",
    "        lcc = max(nx.weakly_connected_components(j),key=len)\n",
    "        j_lcc = nx.induced_subgraph(j,lcc)\n",
    "        if (j_lcc.size() >= 3):\n",
    "            redes[nome] = j\n",
    "    except ValueError:\n",
    "        pass"
   ]
  },
  {
   "cell_type": "code",
   "execution_count": 91,
   "id": "3d1496bf",
   "metadata": {},
   "outputs": [
    {
     "name": "stdout",
     "output_type": "stream",
     "text": [
      "1446\n"
     ]
    }
   ],
   "source": [
    "print(len(redes))"
   ]
  },
  {
   "cell_type": "code",
   "execution_count": 92,
   "id": "4d751080",
   "metadata": {},
   "outputs": [],
   "source": [
    "fav_cf = fav.copy()\n",
    "fav_cf = fav_cf[fav_cf['nome'].isin(list(redes.keys()))]\n",
    "fav_cf['geometry'] = fav_cf['geometry'].minimum_bounding_circle()\n",
    "\n",
    "gdfs = {}\n",
    "busgdfs = {}\n",
    "ilugdfs = {}\n",
    "decgdfs = {}\n",
    "for buffer in buffers:\n",
    "    valgdf = fav_cf.copy()\n",
    "    valgdf['geometry'] = valgdf['geometry'].buffer(buffer)\n",
    "    valgdf['area'] = valgdf['geometry'].area\n",
    "    sval = edges.sjoin(valgdf)\n",
    "    busval = pts_onibus.sjoin(valgdf)\n",
    "    iluval = pts_ilum.sjoin(valgdf)\n",
    "    decgdf = declividade.sjoin(valgdf)\n",
    "    gdfs[buffer] = sval\n",
    "    busgdfs[buffer] = busval\n",
    "    ilugdfs[buffer] = iluval\n",
    "    decgdfs[buffer] = decgdf"
   ]
  },
  {
   "cell_type": "code",
   "execution_count": 93,
   "id": "a98496eb",
   "metadata": {},
   "outputs": [
    {
     "name": "stderr",
     "output_type": "stream",
     "text": [
      "C:\\Users\\User\\anaconda3\\envs\\conso\\lib\\site-packages\\osmnx\\convert.py:381: FutureWarning: <class 'geopandas.array.GeometryArray'>._reduce will require a `keepdims` parameter in the future\n",
      "  dupes = edges[mask].dropna(subset=[\"geometry\"])\n",
      "C:\\Users\\User\\anaconda3\\envs\\conso\\lib\\site-packages\\osmnx\\convert.py:381: FutureWarning: <class 'geopandas.array.GeometryArray'>._reduce will require a `keepdims` parameter in the future\n",
      "  dupes = edges[mask].dropna(subset=[\"geometry\"])\n",
      "C:\\Users\\User\\anaconda3\\envs\\conso\\lib\\site-packages\\osmnx\\convert.py:381: FutureWarning: <class 'geopandas.array.GeometryArray'>._reduce will require a `keepdims` parameter in the future\n",
      "  dupes = edges[mask].dropna(subset=[\"geometry\"])\n",
      "C:\\Users\\User\\anaconda3\\envs\\conso\\lib\\site-packages\\osmnx\\convert.py:381: FutureWarning: <class 'geopandas.array.GeometryArray'>._reduce will require a `keepdims` parameter in the future\n",
      "  dupes = edges[mask].dropna(subset=[\"geometry\"])\n",
      "C:\\Users\\User\\anaconda3\\envs\\conso\\lib\\site-packages\\osmnx\\convert.py:381: FutureWarning: <class 'geopandas.array.GeometryArray'>._reduce will require a `keepdims` parameter in the future\n",
      "  dupes = edges[mask].dropna(subset=[\"geometry\"])\n",
      "C:\\Users\\User\\anaconda3\\envs\\conso\\lib\\site-packages\\osmnx\\convert.py:381: FutureWarning: <class 'geopandas.array.GeometryArray'>._reduce will require a `keepdims` parameter in the future\n",
      "  dupes = edges[mask].dropna(subset=[\"geometry\"])\n",
      "C:\\Users\\User\\anaconda3\\envs\\conso\\lib\\site-packages\\osmnx\\convert.py:381: FutureWarning: <class 'geopandas.array.GeometryArray'>._reduce will require a `keepdims` parameter in the future\n",
      "  dupes = edges[mask].dropna(subset=[\"geometry\"])\n",
      "C:\\Users\\User\\anaconda3\\envs\\conso\\lib\\site-packages\\osmnx\\convert.py:381: FutureWarning: <class 'geopandas.array.GeometryArray'>._reduce will require a `keepdims` parameter in the future\n",
      "  dupes = edges[mask].dropna(subset=[\"geometry\"])\n",
      "C:\\Users\\User\\anaconda3\\envs\\conso\\lib\\site-packages\\osmnx\\convert.py:381: FutureWarning: <class 'geopandas.array.GeometryArray'>._reduce will require a `keepdims` parameter in the future\n",
      "  dupes = edges[mask].dropna(subset=[\"geometry\"])\n"
     ]
    },
    {
     "name": "stdout",
     "output_type": "stream",
     "text": [
      "0\n",
      "50\n",
      "100\n",
      "200\n",
      "400\n"
     ]
    }
   ],
   "source": [
    "op = []\n",
    "for buffer in buffers:\n",
    "    gdf = gdfs[buffer]\n",
    "    busgdf = busgdfs[buffer]\n",
    "    ilugdf = ilugdfs[buffer]\n",
    "    decgdf = decgdfs[buffer]\n",
    "    for rede in redes.keys():\n",
    "        edgelist = gdf[gdf['nome']==rede]\n",
    "        h = nx.edge_subgraph(g,edgelist.index.values.tolist())\n",
    "        #area = network_area(list(h.nodes()),nodes)\n",
    "        area = edgelist['area_right'].values[0]\n",
    "        areakm = area*1/(10**6)\n",
    "        stats = ox.basic_stats(h,area=area)\n",
    "        stats['entropy'] = ox.bearing.orientation_entropy(h.to_undirected())\n",
    "        stats['buffer'] = buffer\n",
    "        stats['ptbus'] = len(busgdf[busgdf['nome']==rede])/areakm\n",
    "        stats['ptilu'] = len(ilugdf[ilugdf['nome']==rede])/areakm\n",
    "        stats['meandec'] = decgdf[decgdf['nome']==rede]['CODIGO'].mean()\n",
    "        stats['vardec'] = decgdf[decgdf['nome']==rede]['CODIGO'].var()\n",
    "        stats['nome'] = rede\n",
    "        op.append(stats)\n",
    "    print(buffer)"
   ]
  },
  {
   "cell_type": "code",
   "execution_count": 94,
   "id": "cdd4055a",
   "metadata": {},
   "outputs": [],
   "source": [
    "outputs = pd.DataFrame(op)\n",
    "outputs = outputs.drop(columns=['streets_per_node_counts','streets_per_node_proportions','self_loop_proportion'])\n",
    "outputs.to_parquet('outputs - 4.parquet')"
   ]
  },
  {
   "cell_type": "code",
   "execution_count": 131,
   "id": "e99fcaaf-f097-4cdb-ba2f-adfedf985daa",
   "metadata": {},
   "outputs": [
    {
     "name": "stdout",
     "output_type": "stream",
     "text": [
      "1448\n"
     ]
    }
   ],
   "source": [
    "outputs = pd.read_parquet('outputs - 3.parquet')\n",
    "print(len(pd.unique(outputs['nome'])))"
   ]
  },
  {
   "cell_type": "code",
   "execution_count": 132,
   "id": "435638a2-6ec9-4203-a7d6-939a6e7ddd81",
   "metadata": {},
   "outputs": [],
   "source": [
    "outputs = outputs.rename(columns={'m':'num. edges',\n",
    "                                  'edge_density_km': 'edge density',\n",
    "                                  'circuity_avg': 'avg. circuity'})"
   ]
  },
  {
   "cell_type": "code",
   "execution_count": 133,
   "id": "dcbd9ff5-d3c9-4f23-b4f0-e73290894f86",
   "metadata": {},
   "outputs": [],
   "source": [
    "label = 'viaspavimentadas'\n",
    "outputs['totdomicilio'] = outputs['nome'].map(fav[['nome','totdomicilio']].set_index('nome')['totdomicilio'])\n",
    "outputs['areageo_km2'] = outputs['nome'].map(fav[['nome','areageo_km2']].set_index('nome')['areageo_km2'])\n",
    "outputs['scale'] = pd.qcut(outputs['totdomicilio'],5,labels=range(5)).astype(int)\n",
    "outputs[label] = outputs['nome'].map(fav[['nome',label]].set_index('nome')[label])"
   ]
  },
  {
   "cell_type": "code",
   "execution_count": 134,
   "id": "1703f5c4-af76-41ec-bd56-5914faed0c22",
   "metadata": {},
   "outputs": [],
   "source": [
    "outputs['edge density'] = outputs['edge density']/1000"
   ]
  },
  {
   "cell_type": "code",
   "execution_count": 135,
   "id": "c3b74f3f-ab56-443b-a26a-fd37564dd5fe",
   "metadata": {},
   "outputs": [
    {
     "data": {
      "text/html": [
       "<div>\n",
       "<style scoped>\n",
       "    .dataframe tbody tr th:only-of-type {\n",
       "        vertical-align: middle;\n",
       "    }\n",
       "\n",
       "    .dataframe tbody tr th {\n",
       "        vertical-align: top;\n",
       "    }\n",
       "\n",
       "    .dataframe thead th {\n",
       "        text-align: right;\n",
       "    }\n",
       "</style>\n",
       "<table border=\"1\" class=\"dataframe\">\n",
       "  <thead>\n",
       "    <tr style=\"text-align: right;\">\n",
       "      <th></th>\n",
       "      <th>n</th>\n",
       "      <th>num. edges</th>\n",
       "      <th>k_avg</th>\n",
       "      <th>edge_length_total</th>\n",
       "      <th>edge_length_avg</th>\n",
       "      <th>streets_per_node_avg</th>\n",
       "      <th>intersection_count</th>\n",
       "      <th>street_length_total</th>\n",
       "      <th>street_segment_count</th>\n",
       "      <th>street_length_avg</th>\n",
       "      <th>avg. circuity</th>\n",
       "      <th>node_density_km</th>\n",
       "      <th>intersection_density_km</th>\n",
       "      <th>edge density</th>\n",
       "      <th>street_density_km</th>\n",
       "      <th>entropy</th>\n",
       "      <th>buffer</th>\n",
       "      <th>ptbus</th>\n",
       "      <th>ptilu</th>\n",
       "      <th>meandec</th>\n",
       "      <th>vardec</th>\n",
       "      <th>nome</th>\n",
       "      <th>totdomicilio</th>\n",
       "      <th>areageo_km2</th>\n",
       "      <th>scale</th>\n",
       "      <th>viaspavimentadas</th>\n",
       "    </tr>\n",
       "  </thead>\n",
       "  <tbody>\n",
       "    <tr>\n",
       "      <th>0</th>\n",
       "      <td>56</td>\n",
       "      <td>114</td>\n",
       "      <td>4.071429</td>\n",
       "      <td>10594.114</td>\n",
       "      <td>92.930825</td>\n",
       "      <td>2.732143</td>\n",
       "      <td>47</td>\n",
       "      <td>5297.057</td>\n",
       "      <td>57</td>\n",
       "      <td>92.930825</td>\n",
       "      <td>1.117337</td>\n",
       "      <td>261.190633</td>\n",
       "      <td>219.213567</td>\n",
       "      <td>49.412202</td>\n",
       "      <td>24706.101246</td>\n",
       "      <td>3.192208</td>\n",
       "      <td>0</td>\n",
       "      <td>27.984711</td>\n",
       "      <td>583.014805</td>\n",
       "      <td>2.000000</td>\n",
       "      <td>1.000000</td>\n",
       "      <td>ABACATEIRO 5560</td>\n",
       "      <td>580.0</td>\n",
       "      <td>0.052205</td>\n",
       "      <td>4</td>\n",
       "      <td>1.0</td>\n",
       "    </tr>\n",
       "    <tr>\n",
       "      <th>1</th>\n",
       "      <td>4</td>\n",
       "      <td>6</td>\n",
       "      <td>3.000000</td>\n",
       "      <td>1027.096</td>\n",
       "      <td>171.182667</td>\n",
       "      <td>3.250000</td>\n",
       "      <td>4</td>\n",
       "      <td>513.548</td>\n",
       "      <td>3</td>\n",
       "      <td>171.182667</td>\n",
       "      <td>1.001123</td>\n",
       "      <td>767.731347</td>\n",
       "      <td>767.731347</td>\n",
       "      <td>197.133449</td>\n",
       "      <td>98566.724444</td>\n",
       "      <td>1.791759</td>\n",
       "      <td>0</td>\n",
       "      <td>0.000000</td>\n",
       "      <td>767.731347</td>\n",
       "      <td>2.000000</td>\n",
       "      <td>NaN</td>\n",
       "      <td>ABATIÁ 3778</td>\n",
       "      <td>34.0</td>\n",
       "      <td>0.002028</td>\n",
       "      <td>0</td>\n",
       "      <td>10.0</td>\n",
       "    </tr>\n",
       "    <tr>\n",
       "      <th>2</th>\n",
       "      <td>28</td>\n",
       "      <td>58</td>\n",
       "      <td>4.142857</td>\n",
       "      <td>3721.394</td>\n",
       "      <td>64.161966</td>\n",
       "      <td>2.892857</td>\n",
       "      <td>24</td>\n",
       "      <td>1860.697</td>\n",
       "      <td>29</td>\n",
       "      <td>64.161966</td>\n",
       "      <td>1.015182</td>\n",
       "      <td>603.124140</td>\n",
       "      <td>516.963549</td>\n",
       "      <td>80.159377</td>\n",
       "      <td>40079.688500</td>\n",
       "      <td>2.638680</td>\n",
       "      <td>0</td>\n",
       "      <td>0.000000</td>\n",
       "      <td>796.985471</td>\n",
       "      <td>1.000000</td>\n",
       "      <td>NaN</td>\n",
       "      <td>ABEL MARCIANO 6244</td>\n",
       "      <td>250.0</td>\n",
       "      <td>0.002368</td>\n",
       "      <td>3</td>\n",
       "      <td>10.0</td>\n",
       "    </tr>\n",
       "    <tr>\n",
       "      <th>3</th>\n",
       "      <td>17</td>\n",
       "      <td>32</td>\n",
       "      <td>3.764706</td>\n",
       "      <td>2439.588</td>\n",
       "      <td>76.237125</td>\n",
       "      <td>2.705882</td>\n",
       "      <td>14</td>\n",
       "      <td>1219.794</td>\n",
       "      <td>16</td>\n",
       "      <td>76.237125</td>\n",
       "      <td>1.053196</td>\n",
       "      <td>554.569205</td>\n",
       "      <td>456.704051</td>\n",
       "      <td>79.583552</td>\n",
       "      <td>39791.775805</td>\n",
       "      <td>2.789500</td>\n",
       "      <td>0</td>\n",
       "      <td>65.243436</td>\n",
       "      <td>652.434359</td>\n",
       "      <td>1.500000</td>\n",
       "      <td>0.500000</td>\n",
       "      <td>ADALBERTO 5785</td>\n",
       "      <td>39.0</td>\n",
       "      <td>0.003345</td>\n",
       "      <td>1</td>\n",
       "      <td>0.0</td>\n",
       "    </tr>\n",
       "    <tr>\n",
       "      <th>4</th>\n",
       "      <td>6</td>\n",
       "      <td>8</td>\n",
       "      <td>2.666667</td>\n",
       "      <td>1114.376</td>\n",
       "      <td>139.297000</td>\n",
       "      <td>3.166667</td>\n",
       "      <td>6</td>\n",
       "      <td>557.188</td>\n",
       "      <td>4</td>\n",
       "      <td>139.297000</td>\n",
       "      <td>1.025252</td>\n",
       "      <td>2242.562199</td>\n",
       "      <td>2242.562199</td>\n",
       "      <td>416.509582</td>\n",
       "      <td>208254.791081</td>\n",
       "      <td>1.732868</td>\n",
       "      <td>0</td>\n",
       "      <td>0.000000</td>\n",
       "      <td>747.520733</td>\n",
       "      <td>2.500000</td>\n",
       "      <td>0.500000</td>\n",
       "      <td>ADALBERTO KURT 2 3643</td>\n",
       "      <td>7.0</td>\n",
       "      <td>0.001591</td>\n",
       "      <td>0</td>\n",
       "      <td>10.0</td>\n",
       "    </tr>\n",
       "    <tr>\n",
       "      <th>...</th>\n",
       "      <td>...</td>\n",
       "      <td>...</td>\n",
       "      <td>...</td>\n",
       "      <td>...</td>\n",
       "      <td>...</td>\n",
       "      <td>...</td>\n",
       "      <td>...</td>\n",
       "      <td>...</td>\n",
       "      <td>...</td>\n",
       "      <td>...</td>\n",
       "      <td>...</td>\n",
       "      <td>...</td>\n",
       "      <td>...</td>\n",
       "      <td>...</td>\n",
       "      <td>...</td>\n",
       "      <td>...</td>\n",
       "      <td>...</td>\n",
       "      <td>...</td>\n",
       "      <td>...</td>\n",
       "      <td>...</td>\n",
       "      <td>...</td>\n",
       "      <td>...</td>\n",
       "      <td>...</td>\n",
       "      <td>...</td>\n",
       "      <td>...</td>\n",
       "      <td>...</td>\n",
       "    </tr>\n",
       "    <tr>\n",
       "      <th>7235</th>\n",
       "      <td>219</td>\n",
       "      <td>506</td>\n",
       "      <td>4.621005</td>\n",
       "      <td>38925.334</td>\n",
       "      <td>76.927538</td>\n",
       "      <td>3.036530</td>\n",
       "      <td>203</td>\n",
       "      <td>21790.062</td>\n",
       "      <td>288</td>\n",
       "      <td>75.659937</td>\n",
       "      <td>1.041813</td>\n",
       "      <td>288.616182</td>\n",
       "      <td>267.530068</td>\n",
       "      <td>51.299001</td>\n",
       "      <td>28716.732840</td>\n",
       "      <td>3.443976</td>\n",
       "      <td>400</td>\n",
       "      <td>25.039760</td>\n",
       "      <td>789.411383</td>\n",
       "      <td>2.050000</td>\n",
       "      <td>0.892105</td>\n",
       "      <td>ÁGUA PODRE 6173</td>\n",
       "      <td>116.0</td>\n",
       "      <td>0.006172</td>\n",
       "      <td>2</td>\n",
       "      <td>5.0</td>\n",
       "    </tr>\n",
       "    <tr>\n",
       "      <th>7236</th>\n",
       "      <td>216</td>\n",
       "      <td>564</td>\n",
       "      <td>5.222222</td>\n",
       "      <td>43522.113</td>\n",
       "      <td>77.166867</td>\n",
       "      <td>2.949074</td>\n",
       "      <td>200</td>\n",
       "      <td>21788.362</td>\n",
       "      <td>283</td>\n",
       "      <td>76.990678</td>\n",
       "      <td>1.047819</td>\n",
       "      <td>278.532302</td>\n",
       "      <td>257.900279</td>\n",
       "      <td>56.121826</td>\n",
       "      <td>28096.123236</td>\n",
       "      <td>3.413750</td>\n",
       "      <td>400</td>\n",
       "      <td>11.605513</td>\n",
       "      <td>903.940479</td>\n",
       "      <td>1.937500</td>\n",
       "      <td>0.995833</td>\n",
       "      <td>ÁGUAS DE CONTENDAS 5429</td>\n",
       "      <td>35.0</td>\n",
       "      <td>0.002179</td>\n",
       "      <td>0</td>\n",
       "      <td>10.0</td>\n",
       "    </tr>\n",
       "    <tr>\n",
       "      <th>7237</th>\n",
       "      <td>180</td>\n",
       "      <td>449</td>\n",
       "      <td>4.988889</td>\n",
       "      <td>46999.650</td>\n",
       "      <td>104.676281</td>\n",
       "      <td>2.866667</td>\n",
       "      <td>161</td>\n",
       "      <td>27686.189</td>\n",
       "      <td>232</td>\n",
       "      <td>119.337022</td>\n",
       "      <td>1.075509</td>\n",
       "      <td>159.694124</td>\n",
       "      <td>142.837522</td>\n",
       "      <td>41.697600</td>\n",
       "      <td>24562.898281</td>\n",
       "      <td>3.322341</td>\n",
       "      <td>400</td>\n",
       "      <td>16.856602</td>\n",
       "      <td>461.338580</td>\n",
       "      <td>2.333333</td>\n",
       "      <td>1.000000</td>\n",
       "      <td>ÁRVORE DE SÃO TOMÁS 438</td>\n",
       "      <td>155.0</td>\n",
       "      <td>0.010970</td>\n",
       "      <td>2</td>\n",
       "      <td>0.0</td>\n",
       "    </tr>\n",
       "    <tr>\n",
       "      <th>7238</th>\n",
       "      <td>239</td>\n",
       "      <td>554</td>\n",
       "      <td>4.635983</td>\n",
       "      <td>45392.474</td>\n",
       "      <td>81.935874</td>\n",
       "      <td>2.949791</td>\n",
       "      <td>216</td>\n",
       "      <td>24878.131</td>\n",
       "      <td>320</td>\n",
       "      <td>77.744159</td>\n",
       "      <td>1.038975</td>\n",
       "      <td>242.301088</td>\n",
       "      <td>218.983410</td>\n",
       "      <td>46.019439</td>\n",
       "      <td>25221.749848</td>\n",
       "      <td>3.509306</td>\n",
       "      <td>400</td>\n",
       "      <td>45.621544</td>\n",
       "      <td>639.715425</td>\n",
       "      <td>1.947368</td>\n",
       "      <td>0.941520</td>\n",
       "      <td>ÂNGELO CRISTIANINI 5463</td>\n",
       "      <td>355.0</td>\n",
       "      <td>0.011676</td>\n",
       "      <td>3</td>\n",
       "      <td>5.0</td>\n",
       "    </tr>\n",
       "    <tr>\n",
       "      <th>7239</th>\n",
       "      <td>208</td>\n",
       "      <td>495</td>\n",
       "      <td>4.759615</td>\n",
       "      <td>35158.945</td>\n",
       "      <td>71.028172</td>\n",
       "      <td>2.841346</td>\n",
       "      <td>178</td>\n",
       "      <td>18375.021</td>\n",
       "      <td>264</td>\n",
       "      <td>69.602352</td>\n",
       "      <td>1.059449</td>\n",
       "      <td>301.724967</td>\n",
       "      <td>258.206943</td>\n",
       "      <td>51.001594</td>\n",
       "      <td>26654.820227</td>\n",
       "      <td>3.534765</td>\n",
       "      <td>400</td>\n",
       "      <td>31.913218</td>\n",
       "      <td>723.849801</td>\n",
       "      <td>2.153846</td>\n",
       "      <td>0.935385</td>\n",
       "      <td>ÂNGELO GIMENEZ 225</td>\n",
       "      <td>38.0</td>\n",
       "      <td>0.003080</td>\n",
       "      <td>1</td>\n",
       "      <td>9.0</td>\n",
       "    </tr>\n",
       "  </tbody>\n",
       "</table>\n",
       "<p>7240 rows × 26 columns</p>\n",
       "</div>"
      ],
      "text/plain": [
       "        n  num. edges     k_avg  ...  areageo_km2  scale  viaspavimentadas\n",
       "0      56         114  4.071429  ...     0.052205      4               1.0\n",
       "1       4           6  3.000000  ...     0.002028      0              10.0\n",
       "2      28          58  4.142857  ...     0.002368      3              10.0\n",
       "3      17          32  3.764706  ...     0.003345      1               0.0\n",
       "4       6           8  2.666667  ...     0.001591      0              10.0\n",
       "...   ...         ...       ...  ...          ...    ...               ...\n",
       "7235  219         506  4.621005  ...     0.006172      2               5.0\n",
       "7236  216         564  5.222222  ...     0.002179      0              10.0\n",
       "7237  180         449  4.988889  ...     0.010970      2               0.0\n",
       "7238  239         554  4.635983  ...     0.011676      3               5.0\n",
       "7239  208         495  4.759615  ...     0.003080      1               9.0\n",
       "\n",
       "[7240 rows x 26 columns]"
      ]
     },
     "execution_count": 135,
     "metadata": {},
     "output_type": "execute_result"
    }
   ],
   "source": [
    "outputs"
   ]
  },
  {
   "cell_type": "code",
   "execution_count": 136,
   "id": "7fd58e5e-07ff-419e-8f3c-84abe82aa135",
   "metadata": {},
   "outputs": [
    {
     "data": {
      "image/png": "[encoded data removed]",
      "text/plain": [
       "<Figure size 648x288 with 2 Axes>"
      ]
     },
     "metadata": {},
     "output_type": "display_data"
    }
   ],
   "source": [
    "figpath = 'figs/'\n",
    "fig, ax = plt.subplots(figsize=(9,4),ncols=2,sharey=True)\n",
    "\n",
    "ax[0].set_xscale('log')\n",
    "ax[0].set_yscale('log')\n",
    "\n",
    "#ax[1].set_xscale('log')\n",
    "ax[1].set_yscale('log')\n",
    "\n",
    "sns.scatterplot(data=outputs[outputs['buffer']==0],\n",
    "                x='n',\n",
    "                y='areageo_km2',\n",
    "                marker='x',\n",
    "                color='gray',\n",
    "                ax=ax[0])\n",
    "sns.scatterplot(data=outputs[outputs['buffer']==0],\n",
    "                x='entropy',\n",
    "                y='areageo_km2',\n",
    "                marker='x',\n",
    "                color='gray',\n",
    "                ax=ax[1])\n",
    "\n",
    "ax[0].set_ylabel('area')\n",
    "fig.savefig(figpath + 'scaling relations.jpg')"
   ]
  },
  {
   "cell_type": "code",
   "execution_count": 137,
   "id": "6612f121-8dcd-4ab8-823e-e66e38c48985",
   "metadata": {},
   "outputs": [],
   "source": [
    "norm_outputs = outputs.copy()\n",
    "cols = outputs.select_dtypes(['int','float']).columns.values.tolist()\n",
    "cols.remove('buffer')\n",
    "norm_outputs[cols] = (outputs[cols] - outputs[cols].mean())/(outputs[cols].std())"
   ]
  },
  {
   "cell_type": "code",
   "execution_count": 142,
   "id": "57915696-5e12-4a54-8917-0f0c596d12ab",
   "metadata": {},
   "outputs": [],
   "source": [
    "p = 2\n",
    "k = 2"
   ]
  },
  {
   "cell_type": "code",
   "execution_count": 143,
   "id": "adfbac7b-5141-4d9e-9c66-cbd774fadcc8",
   "metadata": {},
   "outputs": [],
   "source": [
    "vals = ['entropy','avg. circuity','edge density','num. edges']\n",
    "combs = list(itertools.combinations(vals,2))"
   ]
  },
  {
   "cell_type": "code",
   "execution_count": 144,
   "id": "677837a2-2fdd-4780-bbc3-f93e123fef5c",
   "metadata": {},
   "outputs": [
    {
     "name": "stdout",
     "output_type": "stream",
     "text": [
      "entropy\n",
      "avg. circuity\n",
      "edge density\n",
      "num. edges\n"
     ]
    }
   ],
   "source": [
    "clugraphs = dict()\n",
    "for val in vals:\n",
    "    m = norm_outputs.pivot(index='buffer',columns='nome', values=val)\n",
    "    #m = m.pct_change()\n",
    "    #m = m.fillna(0)\n",
    "    dm = distance_matrix(df=m.T,index_vals=m.columns,p=p)\n",
    "    adj = nx.from_pandas_adjacency(dm)\n",
    "    clugraphs[val] = nx.minimum_spanning_tree(adj, weight='weight')\n",
    "\n",
    "\n",
    "    for edge in clugraphs[val].edges():\n",
    "        weight = clugraphs[val].edges[edge]['weight']\n",
    "        clugraphs[val].edges[edge]['i_weight'] = 1/(10**-7 + weight)\n",
    "        \n",
    "    \n",
    "    d =  outputs[(outputs['buffer']==400)]\n",
    "    for node in clugraphs[val].nodes():\n",
    "        attrs = d[d['nome']==node]\n",
    "        bus = attrs['ptbus'].values[0]\n",
    "        lu = attrs['ptilu'].values[0]\n",
    "        dec = attrs['meandec'].values[0]\n",
    "        est = attrs[label].values[0]\n",
    "        clugraphs[val].nodes[node]['ptbus'] = bus\n",
    "        clugraphs[val].nodes[node]['ptilu'] = lu\n",
    "        clugraphs[val].nodes[node]['dec'] = dec\n",
    "        clugraphs[val].nodes[node]['est'] = est\n",
    "    print(val)"
   ]
  },
  {
   "cell_type": "code",
   "execution_count": 145,
   "id": "e6390e79-7609-4723-b3e3-758fb98b827b",
   "metadata": {},
   "outputs": [
    {
     "name": "stdout",
     "output_type": "stream",
     "text": [
      "entropy ; -0.00282 ; -0.03824 ; 0.1916\n",
      "avg. circuity ; 0.15459 ; 0.02989 ; 0.22832\n",
      "edge density ; 0.48965 ; 0.13881 ; 0.02054\n",
      "num. edges ; 0.47713 ; 0.16459 ; 0.03503\n"
     ]
    }
   ],
   "source": [
    "for val in vals:\n",
    "    x = nx.numeric_assortativity_coefficient(clugraphs[val],attribute='ptilu')\n",
    "    y = nx.numeric_assortativity_coefficient(clugraphs[val],attribute='ptbus')\n",
    "    z = nx.numeric_assortativity_coefficient(clugraphs[val],attribute='dec')\n",
    "    print(val,';',round(x,5),';',round(y,5),';',round(z,5))"
   ]
  },
  {
   "cell_type": "code",
   "execution_count": 113,
   "id": "1b0c02e7-556c-4e08-93f4-e7c8783f5048",
   "metadata": {},
   "outputs": [
    {
     "name": "stdout",
     "output_type": "stream",
     "text": [
      "entropy 37\n",
      "avg. circuity 36\n",
      "edge density 38\n",
      "num. edges 40\n"
     ]
    }
   ],
   "source": [
    "coms = dict()\n",
    "for val in vals:\n",
    "    coms[val] = greedy_modularity_communities(clugraphs[val],weight='i_weight')\n",
    "    print(val, len(coms[val]))"
   ]
  },
  {
   "cell_type": "code",
   "execution_count": 48,
   "id": "a9988416-45bb-476b-8cec-f48b6b95f6d4",
   "metadata": {},
   "outputs": [
    {
     "name": "stdout",
     "output_type": "stream",
     "text": [
      "entropy avg. circuity 320 0\n",
      "entropy edge density 380 1\n",
      "entropy num. edges 470 2\n",
      "avg. circuity edge density 285 3\n",
      "avg. circuity num. edges 275 4\n",
      "edge density num. edges 525 5\n"
     ]
    }
   ],
   "source": [
    "com_favs = dict()\n",
    "count = 0\n",
    "for u, v in combs:\n",
    "    com_favs[u,v] = []\n",
    "    for com0 in coms[u]:\n",
    "        for com1 in coms[v]:\n",
    "            ints = com0.intersection(com1)\n",
    "            if len(ints) >= 4:\n",
    "                fav_int = outputs[outputs.nome.isin(ints)]\n",
    "                com_favs[u,v].append(fav_int[[u,v,'scale','buffer']].groupby('buffer').mean())\n",
    "    com_favs[u,v] = pd.concat(com_favs[u,v]).reset_index()\n",
    "    print(u,v,len(com_favs[u,v]),count)\n",
    "    count += 1"
   ]
  },
  {
   "cell_type": "code",
   "execution_count": 56,
   "id": "84e34079-3bb6-4366-b2bc-6cee2b6b6302",
   "metadata": {},
   "outputs": [
    {
     "ename": "IndexError",
     "evalue": "list index out of range",
     "output_type": "error",
     "traceback": [
      "Traceback \u001b[1;36m(most recent call last)\u001b[0m:\n",
      "\u001b[1;36m  Cell \u001b[1;32mIn[56], line 1\u001b[1;36m\n\u001b[1;33m    u,v = combs[6]\u001b[1;36m\n",
      "\u001b[1;31mIndexError\u001b[0m\u001b[1;31m:\u001b[0m list index out of range\n"
     ]
    }
   ],
   "source": [
    "u,v = combs[5]\n",
    "print(u,v)\n",
    "fig, ax = plt.subplots(ncols=3, figsize=(12,4), sharey=True, sharex=True)\n",
    "\n",
    "newbuff = [0,100,400]\n",
    "labels = ['a','b','c']\n",
    "color = ['red','blue','green']\n",
    "\n",
    "for i in range(len(ax)):\n",
    "    #ax[i].set_xscale('log')\n",
    "    #ax[i].set_yscale('log')\n",
    "    buffer = newbuff[i]\n",
    "    d = com_favs[u,v]\n",
    "    d = d[d['buffer']==buffer].copy()\n",
    "    #d[u] = np.log(d[u])\n",
    "    #d[v] = np.log(d[v])\n",
    "    sns.scatterplot(data=d, x=u, y=v, color=color[i], ax=ax[i], hue='scale')\n",
    "    print(i)\n",
    "    ax[i].legend()\n",
    "    ax[i].set_xlabel(u)\n",
    "    ax[i].set_ylabel(v)\n",
    "    #ax[i].set_xlabel('log('+u+')')\n",
    "    #ax[i].set_ylabel('log('+v+')')\n",
    "    ax[i].set_title('buffer = '+ str(buffer) + 'm')\n",
    "\n",
    "fig.suptitle('Intersections between' + ' ' +  u + ' ' + 'and' + ' ' + v, fontsize=15)\n",
    "fig.tight_layout()\n",
    "fig.savefig(figpath + str(v)+'-'+str(u)+'.jpg')"
   ]
  },
  {
   "cell_type": "code",
   "execution_count": 57,
   "id": "dc65cf5c-6073-42ed-b648-0dacffeb7b1a",
   "metadata": {},
   "outputs": [],
   "source": [
    "edges_base = edges.sjoin(base.set_index('ds_nome'))    "
   ]
  },
  {
   "cell_type": "code",
   "execution_count": 58,
   "id": "bd4a02fc-f90e-489a-aa29-37afc7acc276",
   "metadata": {},
   "outputs": [],
   "source": [
    "density = {}\n",
    "for ds in base['ds_nome']:\n",
    "    ind = edges_base[edges_base['index_right']==ds].index\n",
    "    density[ds] = len(ind)\n",
    "basec = base.copy()\n",
    "basec['density'] = basec['ds_nome'].map(density)/basec['ds_areakmt']"
   ]
  },
  {
   "cell_type": "code",
   "execution_count": 59,
   "id": "ba34301f-6397-40b2-b96e-0e9eb9c5b8c9",
   "metadata": {},
   "outputs": [
    {
     "data": {
      "image/png": "[encoded data removed]",
      "text/plain": [
       "<Figure size 504x504 with 1 Axes>"
      ]
     },
     "metadata": {},
     "output_type": "display_data"
    }
   ],
   "source": [
    "fav_centroid = fav.copy()\n",
    "fav_centroid['geometry'] = fav_centroid['geometry'].centroid\n",
    "mintot, maxtot = fav_centroid['totdomicilio'].min(), fav_centroid['totdomicilio'].max()\n",
    "dif = maxtot-mintot\n",
    "\n",
    "\n",
    "fav_centroid['totdomicilio'] = (fav_centroid['totdomicilio'] - mintot)/(dif)\n",
    "\n",
    "\n",
    "fig, ax = plt.subplots(figsize=(7,7))\n",
    "basec.plot(column='density',legend=True, scheme='equalinterval',ax=ax,legend_kwds={'loc':'lower right','title':'Edge density'})\n",
    "fav_circle.plot(markersize=fav_centroid['totdomicilio']*100,color='white',ax=ax,edgecolor='black')\n",
    "ax.axis('off')\n",
    "fig.savefig(figpath + 'edge_density_distribution.jpg')"
   ]
  },
  {
   "cell_type": "code",
   "execution_count": 64,
   "id": "66542b67-8463-49ee-8e02-5396f38dc4ea",
   "metadata": {},
   "outputs": [
    {
     "name": "stdout",
     "output_type": "stream",
     "text": [
      "(4, 172) (4, 1041)\n"
     ]
    }
   ],
   "source": [
    "mpivot0 = outputs.pivot(index='buffer',values='avg. circuity',columns='nome').diff().dropna()\n",
    "mpivot1 = outputs.pivot(index='buffer',values='entropy',columns='nome').diff().dropna()\n",
    "\n",
    "mpivot0 = mpivot0.loc[:, (mpivot0 < 0).all(axis=0)]\n",
    "mpivot1 = mpivot1.loc[:, (mpivot1 > 0).all(axis=0)]\n",
    "cols = set(mpivot0.columns.values.tolist()).intersection(set(mpivot1.columns.values.tolist()))\n",
    "print(mpivot0.shape,mpivot1.shape)"
   ]
  },
  {
   "cell_type": "code",
   "execution_count": 65,
   "id": "a197b3ea-c251-45f3-88e9-6da22217b556",
   "metadata": {},
   "outputs": [],
   "source": [
    "intersection = []\n",
    "nodes = []\n",
    "for comA in coms['entropy']:\n",
    "    for comB in coms['avg. circuity']:     \n",
    "        val = comA.intersection(comB)\n",
    "        #val = val.intersection(cols)\n",
    "        if len(val) > 1:\n",
    "            intersection.append(val)\n",
    "            for node in val:\n",
    "                nodes.append(node)\n",
    "intersection = sorted(intersection,key=len,reverse=True)"
   ]
  },
  {
   "cell_type": "code",
   "execution_count": 67,
   "id": "21e79aef-ed20-48bc-87ff-0e62b4f6d4d7",
   "metadata": {},
   "outputs": [
    {
     "name": "stdout",
     "output_type": "stream",
     "text": [
      "155\n"
     ]
    }
   ],
   "source": [
    "dfs = []\n",
    "for i in range(len(intersection)):\n",
    "    x = outputs[(outputs['nome'].isin(intersection[i]))]\n",
    "    if len(x[(x['entropy']>2.99) & (x['avg. circuity']>1.09)]) > 0:\n",
    "        dfs.append(x)\n",
    "print(len(dfs))"
   ]
  },
  {
   "cell_type": "code",
   "execution_count": 68,
   "id": "7da1b89f-3f93-4998-bee6-bce48d8ff23e",
   "metadata": {},
   "outputs": [
    {
     "name": "stdout",
     "output_type": "stream",
     "text": [
      "438.0\n"
     ]
    }
   ],
   "source": [
    "cols = ['avg. circuity', 'entropy', 'n', 'buffer', 'nome']\n",
    "ind = 0\n",
    "myopt0 = pd.concat([dfs[i] for i in range(len(dfs))])\n",
    "myopt0 = myopt0.set_index('nome')\n",
    "print(myopt0.shape[0]/5)"
   ]
  },
  {
   "cell_type": "code",
   "execution_count": 69,
   "id": "6452a1c4-bd14-4974-a525-3b9ae3f6705a",
   "metadata": {},
   "outputs": [
    {
     "name": "stdout",
     "output_type": "stream",
     "text": [
      "54\n"
     ]
    }
   ],
   "source": [
    "dfs = []\n",
    "for i in range(len(intersection)):\n",
    "    x = outputs[(outputs['nome'].isin(intersection[i]))]\n",
    "    if len(x[(x['entropy']<2.02) & (x['avg. circuity']<1.01)]) > 0:\n",
    "        dfs.append(x)\n",
    "print(len(dfs))"
   ]
  },
  {
   "cell_type": "code",
   "execution_count": 70,
   "id": "3d9d3c48-3158-4379-ad01-e3f86b79cacb",
   "metadata": {},
   "outputs": [
    {
     "name": "stdout",
     "output_type": "stream",
     "text": [
      "174.0\n"
     ]
    }
   ],
   "source": [
    "cols = ['avg. circuity', 'entropy', 'n', 'buffer', 'nome']\n",
    "ind = 0\n",
    "myopt1 = pd.concat([dfs[i] for i in range(len(dfs))])\n",
    "myopt1 = myopt1.set_index('nome')\n",
    "print(myopt1.shape[0]/5)"
   ]
  },
  {
   "cell_type": "code",
   "execution_count": 71,
   "id": "dc7f208d-9f1c-4404-975d-446460e9ae1b",
   "metadata": {},
   "outputs": [
    {
     "data": {
      "image/png": "[encoded data removed]",
      "text/plain": [
       "<Figure size 576x576 with 4 Axes>"
      ]
     },
     "metadata": {},
     "output_type": "display_data"
    }
   ],
   "source": [
    "fig, ax = plt.subplots(nrows=2,ncols=2,figsize=(8,8),sharex=True)\n",
    "\n",
    "sns.lineplot(data=myopt0,x='buffer',y='avg. circuity',ax=ax[0][0],err_style='bars')\n",
    "ax[0][0].set_title('Avg. circuity > 1.09')\n",
    "\n",
    "sns.lineplot(data=myopt0,x='buffer',y='entropy',ax=ax[1][0],err_style='bars')\n",
    "ax[1][0].set_title('Entropy > 2.99')\n",
    "\n",
    "sns.lineplot(data=myopt1,x='buffer',y='avg. circuity',ax=ax[0][1],err_style='bars')\n",
    "ax[0][1].set_title('Avg. circuity < 1.01')\n",
    "\n",
    "sns.lineplot(data=myopt1,x='buffer',y='entropy',ax=ax[1][1],err_style='bars')\n",
    "ax[1][1].set_title('Entropy < 2.02')\n",
    "\n",
    "ax[0][1].set_ylabel('')\n",
    "ax[1][1].set_ylabel('')\n",
    "fig.savefig('circ-ent.jpg',dpi=300)"
   ]
  },
  {
   "cell_type": "code",
   "execution_count": null,
   "id": "12649da4-b380-4b5f-8930-07e5d8a3321d",
   "metadata": {},
   "outputs": [],
   "source": []
  },
  {
   "cell_type": "code",
   "execution_count": null,
   "id": "543e7e9a",
   "metadata": {},
   "outputs": [],
   "source": []
  }
 ],
 "metadata": {
  "kernelspec": {
   "display_name": "Python 3 (Spyder)",
   "language": "python3",
   "name": "python3"
  },
  "language_info": {
   "codemirror_mode": {
    "name": "ipython",
    "version": 3
   },
   "file_extension": ".py",
   "mimetype": "text/x-python",
   "name": "python",
   "nbconvert_exporter": "python",
   "pygments_lexer": "ipython3",
   "version": "3.10.14"
  }
 },
 "nbformat": 4,
 "nbformat_minor": 5
}
